{
 "cells": [
  {
   "cell_type": "code",
   "execution_count": 5,
   "metadata": {},
   "outputs": [
    {
     "name": "stdout",
     "output_type": "stream",
     "text": [
      "['/root/kaggle', '/opt/facets/facets_overview/python', '/opt/conda/lib/python310.zip', '/opt/conda/lib/python3.10', '/opt/conda/lib/python3.10/lib-dynload', '', '/root/.local/lib/python3.10/site-packages', '/opt/conda/lib/python3.10/site-packages', '/root/src/BigQuery_Helper', '/root/kaggle/lib/kaggle', '/root/kaggle/usr/lib', '/root/kaggle/lib/kaggle', '/root/kaggle/usr/lib']\n"
     ]
    }
   ],
   "source": [
    "# Import necessary libraries\n",
    "\n",
    "## Import Python Standard Libraries\n",
    "import os\n",
    "import sys\n",
    "\n",
    "\n",
    "## Import Third-Party Libraries\n",
    "import numpy as np # linear algebra\n",
    "import pandas as pd # data processing, CSV file I/O (e.g. pd.read_csv)\n",
    "\n",
    "\n",
    "## Import local libraries\n",
    "\n",
    "### Add local libraries to sys.path for Python to find the modules\n",
    "sys.path.append(os.path.expanduser('~/kaggle/lib/kaggle'))\n",
    "sys.path.append(os.path.expanduser('~/kaggle/usr/lib'))\n",
    "\n",
    "# Verify the PATH has been updated\n",
    "print(sys.path)\n",
    "\n",
    "### Import the Kaggle Notebook utility script\n",
    "from kagutils import *"
   ]
  },
  {
   "cell_type": "code",
   "execution_count": null,
   "metadata": {},
   "outputs": [],
   "source": []
  },
  {
   "cell_type": "code",
   "execution_count": null,
   "metadata": {},
   "outputs": [],
   "source": []
  }
 ],
 "metadata": {
  "kernelspec": {
   "display_name": "base",
   "language": "python",
   "name": "python3"
  },
  "language_info": {
   "codemirror_mode": {
    "name": "ipython",
    "version": 3
   },
   "file_extension": ".py",
   "mimetype": "text/x-python",
   "name": "python",
   "nbconvert_exporter": "python",
   "pygments_lexer": "ipython3",
   "version": "3.10.14"
  }
 },
 "nbformat": 4,
 "nbformat_minor": 2
}
