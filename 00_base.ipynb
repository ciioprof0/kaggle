{
 "cells": [
  {
   "cell_type": "markdown",
   "metadata": {},
   "source": [
    "# Kaggle Notebook Base Template\n",
    "Filename: `00_base.ipynb`"
   ]
  },
  {
   "cell_type": "markdown",
   "metadata": {},
   "source": [
    "## Setup Notebook Environment\n"
   ]
  },
  {
   "cell_type": "markdown",
   "metadata": {},
   "source": [
    "### If running on Kaggle.com\n",
    "See right sidebar. If not visible, click `◄ `  button near lower right corner of your screen.\n",
    "\n",
    "1. Add Input(s) already on Kaggle.com:\n",
    "  - Dataset(s): `filename` (if any)\n",
    "  - Model(s): `filename` (if any)\n",
    "  - Utility Scripts: \n",
    "    - Add `kagutils`\n",
    "    - `name_of_script_to_link` (if any)\n",
    "1. Upload Input(s) not on Kaggle.com\n",
    "  - New Dataset(s): `filename` (if any)\n",
    "  - New Model(s): `filename` (if any)\n",
    "1. Set Session Options:\n",
    "  - Accelerator: Set as needed\n",
    "  - Language: `Python` or `R`\n",
    "  - Persistence: Set as desired\n",
    "  - Environment: Set as desired \n",
    "1. Add Tags: Set as desired, up to 5\n",
    "1. Link to GitHub: Set as desired\n",
    "1. Schedule a notebook to run: Set as desired"
   ]
  },
  {
   "cell_type": "markdown",
   "metadata": {},
   "source": [
    "### If running locally\n"
   ]
  },
  {
   "cell_type": "markdown",
   "metadata": {},
   "source": [
    "### Import Libraries"
   ]
  },
  {
   "cell_type": "code",
   "execution_count": 3,
   "metadata": {},
   "outputs": [],
   "source": [
    "# Import Python Standard Libraries\n",
    "import os\n",
    "import sys\n",
    "\n",
    "# Import Third-Party Libraries\n",
    "import numpy as np # linear algebra\n",
    "import pandas as pd # data processing, CSV file I/O (e.g. pd.read_csv)\n",
    "\n",
    "# Import local libraries\n",
    "## Determine if running on Kaggle.com or locally\n",
    "on_kaggle = os.path.exists('/kaggle')\n",
    "if not on_kaggle:\n",
    "    # Running locally, adjust sys.path\n",
    "    home_dir = os.path.expanduser('~')\n",
    "    sys.path.append(os.path.join(home_dir, 'kaggle', 'lib'))\n",
    "    sys.path.append(os.path.join(home_dir, 'kaggle', 'lib', 'kaggle'))\n",
    "    sys.path.append(os.path.join(home_dir, 'kaggle', 'lib', 'kagglegym'))\n",
    "    sys.path.append(os.path.join(home_dir, 'kaggle', 'usr', 'lib'))\n",
    "    sys.path.append(os.path.join(home_dir, 'kaggle', 'usr', 'lib', 'kagutils'))\n",
    "    sys.path.append(os.path.join(home_dir, 'src', 'BigQuery_Helper'))\n",
    "else:\n",
    "    # Running on Kaggle, no need to adjust sys.path\n",
    "    pass\n",
    "\n",
    "## Import the Kaggle Notebook utility script\n",
    "from kagutils import *"
   ]
  },
  {
   "cell_type": "markdown",
   "metadata": {},
   "source": [
    "### Check Environmental Variables\n",
    "For development, testing, and debugging."
   ]
  },
  {
   "cell_type": "code",
   "execution_count": 9,
   "metadata": {},
   "outputs": [
    {
     "name": "stdout",
     "output_type": "stream",
     "text": [
      "Python 3.10.14\n",
      "conda 24.9.0\n"
     ]
    }
   ],
   "source": [
    "!python --version\n",
    "!conda --version"
   ]
  },
  {
   "cell_type": "code",
   "execution_count": 7,
   "metadata": {},
   "outputs": [
    {
     "name": "stdout",
     "output_type": "stream",
     "text": [
      "PATH = /opt/conda/bin:/opt/conda/condabin:/root/.vscode-server/bin/d78a74bcdfad14d5d3b1b782f87255d802b57511/bin/remote-cli:/opt/bin:/opt/conda/bin:/usr/local/nvidia/bin:/usr/local/cuda/bin:/usr/local/sbin:/usr/local/bin:/usr/sbin:/usr/bin:/sbin:/bin\n"
     ]
    }
   ],
   "source": [
    "!echo \"PATH = $PATH\""
   ]
  },
  {
   "cell_type": "code",
   "execution_count": 8,
   "metadata": {},
   "outputs": [
    {
     "name": "stdout",
     "output_type": "stream",
     "text": [
      "sys.path = ['/root/kaggle', '/opt/facets/facets_overview/python', '/opt/conda/lib/python310.zip', '/opt/conda/lib/python3.10', '/opt/conda/lib/python3.10/lib-dynload', '', '/root/.local/lib/python3.10/site-packages', '/opt/conda/lib/python3.10/site-packages', '/root/src/BigQuery_Helper', '/root/kaggle/lib', '/root/kaggle/lib/kaggle', '/root/kaggle/lib/kagglegym', '/root/kaggle/usr/lib', '/root/kaggle/usr/lib/kagutils', '/root/src/BigQuery_Helper', '/root/kaggle/lib', '/root/kaggle/lib/kaggle', '/root/kaggle/lib/kagglegym', '/root/kaggle/usr/lib', '/root/kaggle/usr/lib/kagutils', '/root/src/BigQuery_Helper']\n"
     ]
    }
   ],
   "source": [
    "print(f\"sys.path = {sys.path}\")"
   ]
  }
 ],
 "metadata": {
  "kernelspec": {
   "display_name": "base",
   "language": "python",
   "name": "python3"
  },
  "language_info": {
   "codemirror_mode": {
    "name": "ipython",
    "version": 3
   },
   "file_extension": ".py",
   "mimetype": "text/x-python",
   "name": "python",
   "nbconvert_exporter": "python",
   "pygments_lexer": "ipython3",
   "version": "3.10.14"
  }
 },
 "nbformat": 4,
 "nbformat_minor": 2
}
