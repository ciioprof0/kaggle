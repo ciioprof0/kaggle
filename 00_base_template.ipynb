{
 "cells": [
  {
   "cell_type": "markdown",
   "metadata": {},
   "source": [
    "# Kaggle Notebook Base Template\n",
    "Filename: `00_base_template.ipynb`\n",
    "\n",
    "This notebook is designed to run with 'kagutils' utility script either on Kaggle.com or locally in a Kaggle Docker container."
   ]
  },
  {
   "cell_type": "markdown",
   "metadata": {},
   "source": [
    "## Setup Notebook Environment\n"
   ]
  },
  {
   "cell_type": "markdown",
   "metadata": {},
   "source": [
    "### If running on Kaggle.com\n",
    "See right sidebar. If not visible, click &nbsp;`◄ `&nbsp; button near lower right corner of your screen. You can also accomplish the same tasks from the `File` menu.\n",
    "\n",
    "\n",
    "- Add Input(s) already on Kaggle.com:\n",
    "  - Dataset(s): `filename` (if any)\n",
    "  - Model(s): `filename` (if any)\n",
    "  - Utility Scripts: \n",
    "    - Add `kagutils`\n",
    "    - `name_of_script_to_link` (if any)\n",
    "- Upload Input(s) not on Kaggle.com\n",
    "  - New Dataset(s): `filename` (if any)\n",
    "  - New Model(s): `filename` (if any)\n",
    "- Set Session Options:\n",
    "  - Accelerator: Set as needed\n",
    "  - Language: `Python` or `R`\n",
    "  - Persistence: Set as desired\n",
    "  - Environment: Set as desired \n",
    "- Add Tags: Set as desired, up to 5\n",
    "- Link to GitHub: Set as desired\n",
    "- Schedule a notebook to run: Set as desired"
   ]
  },
  {
   "cell_type": "markdown",
   "metadata": {},
   "source": [
    "### Import Libraries"
   ]
  },
  {
   "cell_type": "code",
   "execution_count": 2,
   "metadata": {},
   "outputs": [],
   "source": [
    "# Import Python Standard Libraries\n",
    "import os   # Common pathname manipulations\n",
    "import sys  # System-specific parameters and functions\n",
    "\n",
    "# Import Third-Party Libraries inlcuded with Anaconda\n",
    "import numpy as np   # For array computing\n",
    "import pandas as pd  # For data analysis, time series, and statistics\n",
    "\n",
    "## Ensure interoperability between Kaggle Docker local instance and Kaggle.com.\n",
    "on_kaggle_com = os.getenv('KAGGLE_URL_BASE') is not None\n",
    "if not on_kaggle_com:\n",
    "    kaggle_sys_path = ['/kaggle/lib/kagglegym', '/kaggle/lib', '/kaggle/usr/lib', '/kaggle/usr/lib/kagutils', '/opt/conda/lib/python310.zip', '/opt/conda/lib/python3.10', '/opt/conda/lib/python3.10/lib-dynload', '', '/root/.local/lib/python3.10/site-packages', '/opt/conda/lib/python3.10/site-packages', '/root/src/BigQuery_Helper']\n",
    "    sys.path = kaggle_sys_path\n",
    "\n",
    "## Import the Kaggle Notebook utility script\n",
    "from kagutils import *  # For Kaggle-specific utilities"
   ]
  },
  {
   "cell_type": "markdown",
   "metadata": {},
   "source": [
    "### If running on local Kaggle Docker instance\n",
    "\n",
    "Download competitions, datasets, models"
   ]
  },
  {
   "cell_type": "code",
   "execution_count": 3,
   "metadata": {},
   "outputs": [
    {
     "name": "stdout",
     "output_type": "stream",
     "text": [
      "kaggle.json found at /root/.kaggle/kaggle.json\n",
      "kaggle.json is in the correct place.\n",
      "Correct permissions (600).\n",
      "kaggle.json has the correct permissions.\n",
      "Your kaggle.json file is correctly set up and ready to use.\n"
     ]
    }
   ],
   "source": [
    "# Check if kaggle.json is in the right place, set the permissions, and validate the content\n",
    "if not on_kaggle_com:\n",
    "    # Step 1: Check if the kaggle.json file is in the right place\n",
    "    kaggle_json_found = find_kaggle_json()\n",
    "    if kaggle_json_found:\n",
    "        print(\"kaggle.json is in the correct place.\")\n",
    "    else:\n",
    "        print(\"kaggle.json is missing. Please ensure it is placed in ~/.kaggle/.\")\n",
    "\n",
    "    # Step 2: Check if kaggle.json has the correct permissions\n",
    "    permissions_ok = check_kaggle_json_permissions()\n",
    "    if permissions_ok:\n",
    "        print(\"kaggle.json has the correct permissions.\")\n",
    "    else:\n",
    "        print(\"kaggle.json permissions were incorrect and have been updated.\")\n",
    "\n",
    "    # Step 3: Ensure kaggle.json has the required permissions\n",
    "    if kaggle_json_found and permissions_ok:\n",
    "        print(\"Your kaggle.json file is correctly set up and ready to use.\")\n",
    "    else:\n",
    "        print(\"Please check your kaggle.json file.\")\n"
   ]
  },
  {
   "cell_type": "markdown",
   "metadata": {},
   "source": [
    "### Code for Development, Testing, and Debugging\n",
    "\n",
    "Check Environmental Variables"
   ]
  },
  {
   "cell_type": "code",
   "execution_count": 4,
   "metadata": {},
   "outputs": [
    {
     "name": "stdout",
     "output_type": "stream",
     "text": [
      "Python 3.10.14\n",
      "conda 24.9.0\n",
      "PATH = /opt/conda/bin:/opt/conda/condabin:/root/.vscode-server/bin/d78a74bcdfad14d5d3b1b782f87255d802b57511/bin/remote-cli:/opt/bin:/opt/conda/bin:/usr/local/nvidia/bin:/usr/local/cuda/bin:/usr/local/sbin:/usr/local/bin:/usr/sbin:/usr/bin:/sbin:/bin\n"
     ]
    }
   ],
   "source": [
    "!python --version\n",
    "!conda --version\n",
    "!echo \"PATH = $PATH\"\n",
    "# # Print all environment variables\n",
    "# for key, value in os.environ.items():\n",
    "#     print(f'{key}: {value}')"
   ]
  },
  {
   "cell_type": "code",
   "execution_count": 5,
   "metadata": {},
   "outputs": [
    {
     "name": "stdout",
     "output_type": "stream",
     "text": [
      "Downloading kag-template-demo.zip to /kaggle/input\n",
      "100%|████████████████████████████████████████| 547k/547k [00:00<00:00, 3.90MB/s]\n",
      "100%|████████████████████████████████████████| 547k/547k [00:00<00:00, 3.88MB/s]\n"
     ]
    }
   ],
   "source": [
    "!kaggle competitions download -c kag-template-demo -p /kaggle/input/"
   ]
  },
  {
   "cell_type": "code",
   "execution_count": 6,
   "metadata": {},
   "outputs": [
    {
     "name": "stdout",
     "output_type": "stream",
     "text": [
      "Extracted /kaggle/input/kag-template-demo.zip to /kaggle/input/kag-template-demo\n"
     ]
    }
   ],
   "source": [
    "unzip_file(\"/kaggle/input/kag-template-demo.zip\", \"/kaggle/input/kag-template-demo\", False)\n",
    "! rm /kaggle/input/kag-template-demo.zip"
   ]
  },
  {
   "cell_type": "markdown",
   "metadata": {},
   "source": [
    "List files available to this notebook"
   ]
  },
  {
   "cell_type": "code",
   "execution_count": 9,
   "metadata": {},
   "outputs": [
    {
     "name": "stdout",
     "output_type": "stream",
     "text": [
      "\n",
      "# Inventorying directory: /kaggle\n",
      "Directory: /kaggle\n",
      "  Filename: /kaggle/00_base_template.ipynb\n",
      "  Filename: /kaggle/README.md\n",
      "  Filename: /kaggle/.gitignore\n",
      "Directory: /kaggle/working\n",
      "Directory: /kaggle/working/tests\n",
      "  Filename: /kaggle/working/tests/README.md\n",
      "Directory: /kaggle/working/logs\n",
      "  Filename: /kaggle/working/logs/README.md\n",
      "Directory: /kaggle/working/.virtual_documents\n",
      "  Filename: /kaggle/working/.virtual_documents/.gitkeep\n",
      "Directory: /kaggle/.git\n",
      "  Filename: /kaggle/.git/COMMIT_EDITMSG\n",
      "  Filename: /kaggle/.git/description\n",
      "  Filename: /kaggle/.git/ORIG_HEAD\n",
      "  Filename: /kaggle/.git/FETCH_HEAD\n",
      "  Filename: /kaggle/.git/HEAD\n",
      "Directory: /kaggle/.git/info\n",
      "  Filename: /kaggle/.git/info/exclude\n",
      "Directory: /kaggle/.git/logs\n",
      "  Filename: /kaggle/.git/logs/HEAD\n",
      "Directory: /kaggle/.git/objects\n",
      "Directory: /kaggle/.git/hooks\n",
      "  Filename: /kaggle/.git/hooks/pre-rebase.sample\n",
      "  Filename: /kaggle/.git/hooks/pre-commit.sample\n",
      "  Filename: /kaggle/.git/hooks/applypatch-msg.sample\n",
      "  Filename: /kaggle/.git/hooks/commit-msg.sample\n",
      "  Filename: /kaggle/.git/hooks/pre-receive.sample\n",
      "Directory: /kaggle/.git/refs\n",
      "Directory: /kaggle/.git/branches\n",
      "Directory: /kaggle/input\n",
      "  Filename: /kaggle/input/.gitkeep\n",
      "Directory: /kaggle/input/kag-template-demo\n",
      "  Filename: /kaggle/input/kag-template-demo/train.csv\n",
      "  Filename: /kaggle/input/kag-template-demo/sample_submission.csv\n",
      "  Filename: /kaggle/input/kag-template-demo/test.csv\n",
      "Directory: /kaggle/.github\n",
      "Directory: /kaggle/.github/ISSUE_TEMPLATE\n",
      "  Filename: /kaggle/.github/ISSUE_TEMPLATE/feature_request.md\n",
      "  Filename: /kaggle/.github/ISSUE_TEMPLATE/bug_report.md\n",
      "Directory: /kaggle/.github/workflows\n",
      "  Filename: /kaggle/.github/workflows/ci.yml\n",
      "Directory: /kaggle/.github/PULL_REQUEST_TEMPLATE\n",
      "  Filename: /kaggle/.github/PULL_REQUEST_TEMPLATE/pull_requests.md\n",
      "  Filename: /kaggle/.github/PULL_REQUEST_TEMPLATE/README.md\n",
      "  Filename: /kaggle/.github/PULL_REQUEST_TEMPLATE/documentation_requests.md\n",
      "Directory: /kaggle/usr\n",
      "Directory: /kaggle/usr/lib\n",
      "  Local Library: __pycache__\n",
      "Directory: /kaggle/lib\n",
      "Directory: /kaggle/lib/kaggle\n",
      "  Filename: /kaggle/lib/kaggle/__init__.py\n",
      "  Filename: /kaggle/lib/kaggle/gcp.py\n",
      "Directory: /kaggle/lib/kagglegym\n",
      "  Filename: /kaggle/lib/kagglegym/.gitkeep\n",
      "Directory: /kaggle/.vscode\n",
      "  Filename: /kaggle/.vscode/settings.json\n"
     ]
    }
   ],
   "source": [
    "# List files available to this notebook.\n",
    "inventory_files('/kaggle', max_files=5, max_depth=2)"
   ]
  }
 ],
 "metadata": {
  "kernelspec": {
   "display_name": "base",
   "language": "python",
   "name": "python3"
  },
  "language_info": {
   "codemirror_mode": {
    "name": "ipython",
    "version": 3
   },
   "file_extension": ".py",
   "mimetype": "text/x-python",
   "name": "python",
   "nbconvert_exporter": "python",
   "pygments_lexer": "ipython3",
   "version": "3.10.14"
  }
 },
 "nbformat": 4,
 "nbformat_minor": 2
}
