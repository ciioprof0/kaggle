{
 "cells": [
  {
   "cell_type": "code",
   "execution_count": 1,
   "id": "d47669b9",
   "metadata": {
    "_cell_guid": "b1076dfc-b9ad-4769-8c92-a6c4dae69d19",
    "_uuid": "8f2839f25d086af736a60e9eeb907d3b93b6e0e5",
    "execution": {
     "iopub.execute_input": "2024-09-28T14:22:39.680498Z",
     "iopub.status.busy": "2024-09-28T14:22:39.680039Z",
     "iopub.status.idle": "2024-09-28T14:22:40.528567Z",
     "shell.execute_reply": "2024-09-28T14:22:40.526781Z"
    },
    "papermill": {
     "duration": 0.856465,
     "end_time": "2024-09-28T14:22:40.531248",
     "exception": false,
     "start_time": "2024-09-28T14:22:39.674783",
     "status": "completed"
    },
    "tags": []
   },
   "outputs": [
    {
     "name": "stdout",
     "output_type": "stream",
     "text": [
      "/kaggle/input/the-purdue-data-4-good-case-competition-2024/sample_submission.csv\n",
      "/kaggle/input/the-purdue-data-4-good-case-competition-2024/examples.csv\n",
      "/kaggle/input/the-purdue-data-4-good-case-competition-2024/test.csv\n",
      "/kaggle/input/taps-aug/taps_journey_stages.json\n",
      "/kaggle/input/taps-aug/taps_survey_qna.json\n"
     ]
    }
   ],
   "source": [
    "# This Python 3 environment comes with many helpful analytics libraries installed\n",
    "# It is defined by the kaggle/python Docker image: https://github.com/kaggle/docker-python\n",
    "# For example, here's several helpful packages to load\n",
    "\n",
    "import numpy as np # linear algebra\n",
    "import pandas as pd # data processing, CSV file I/O (e.g. pd.read_csv)\n",
    "\n",
    "# Input data files are available in the read-only \"../input/\" directory\n",
    "# For example, running this (by clicking run or pressing Shift+Enter) will list all files under the input directory\n",
    "\n",
    "import os\n",
    "for dirname, _, filenames in os.walk('/kaggle/input'):\n",
    "    for filename in filenames:\n",
    "        print(os.path.join(dirname, filename))\n",
    "\n",
    "# You can write up to 20GB to the current directory (/kaggle/working/) that gets preserved as output when you create a version using \"Save & Run All\" \n",
    "# You can also write temporary files to /kaggle/temp/, but they won't be saved outside of the current session"
   ]
  },
  {
   "cell_type": "code",
   "execution_count": 2,
   "id": "18de24a8",
   "metadata": {
    "execution": {
     "iopub.execute_input": "2024-09-28T14:22:40.539601Z",
     "iopub.status.busy": "2024-09-28T14:22:40.539027Z",
     "iopub.status.idle": "2024-09-28T14:22:40.554962Z",
     "shell.execute_reply": "2024-09-28T14:22:40.553423Z"
    },
    "papermill": {
     "duration": 0.023338,
     "end_time": "2024-09-28T14:22:40.557909",
     "exception": false,
     "start_time": "2024-09-28T14:22:40.534571",
     "status": "completed"
    },
    "tags": []
   },
   "outputs": [
    {
     "name": "stdout",
     "output_type": "stream",
     "text": [
      "\n",
      "# Walking directory: /kaggle\n",
      "Directory: /kaggle\n",
      "Directory: /kaggle/src\n",
      "  Filename: /kaggle/src/script.ipynb\n",
      "Directory: /kaggle/lib\n",
      "Directory: /kaggle/lib/kaggle\n",
      "  Filename: /kaggle/lib/kaggle/gcp.py\n",
      "Directory: /kaggle/input\n",
      "Directory: /kaggle/input/the-purdue-data-4-good-case-competition-2024\n",
      "  Filename: /kaggle/input/the-purdue-data-4-good-case-competition-2024/sample_submission.csv\n",
      "  Filename: /kaggle/input/the-purdue-data-4-good-case-competition-2024/examples.csv\n",
      "  Filename: /kaggle/input/the-purdue-data-4-good-case-competition-2024/test.csv\n",
      "Directory: /kaggle/input/taps-aug\n",
      "  Filename: /kaggle/input/taps-aug/taps_journey_stages.json\n",
      "  Filename: /kaggle/input/taps-aug/taps_survey_qna.json\n",
      "Directory: /kaggle/usr\n",
      "Directory: /kaggle/usr/lib\n",
      "  Utility Scripts: load_inputs\n",
      "Directory: /kaggle/working\n",
      "  Filename: /kaggle/working/__notebook__.ipynb\n"
     ]
    }
   ],
   "source": [
    "import os\n",
    "\n",
    "def walk_dirs(parent_dir='/kaggle', max_files=5, max_depth=2):\n",
    "    \"\"\"\n",
    "    Walk through Kaggle directories starting from the parent directory and print up to max_files per directory.\n",
    "    Optionally restrict the depth of the directory tree traversal with max_depth.\n",
    "\n",
    "    This function inventories directories and files, specifically identifying utility scripts \n",
    "    in subdirectories under '/kaggle/usr/lib/'. Utility scripts are listed as subdirectory names, \n",
    "    while other files are listed as \"Filename\".\n",
    "\n",
    "    Args:\n",
    "        parent_dir (str): The base directory to start the walk from. Defaults to '/kaggle'.\n",
    "        max_files (int): The maximum number of files to display per directory. Defaults to 5.\n",
    "        max_depth (int): The maximum depth to walk into the directory structure. Defaults to 2.\n",
    "\n",
    "    Example Usage:\n",
    "        # Call this utility script to inventory files in the notebook environment:\n",
    "        from walk_directories import walk_directories\n",
    "        walk_directories(parent_dir='/kaggle', max_files=5, max_depth=3)\n",
    "\n",
    "    The function will output the structure of directories and files within the specified depth, \n",
    "    differentiating between utility scripts in '/kaggle/usr/lib/' and regular files in other directories.\n",
    "\n",
    "    Output Example:\n",
    "        # Walking directory: /kaggle\n",
    "        Directory: /kaggle\n",
    "        Directory: /kaggle/lib\n",
    "        Directory: /kaggle/usr/lib\n",
    "          Utility Scripts: util_script1\n",
    "          Utility Scripts: util_script2\n",
    "        Directory: /kaggle/input\n",
    "          Filename: /kaggle/input/sample_data.csv\n",
    "    \"\"\"\n",
    "    \n",
    "    print(f\"\\n# Walking directory: {parent_dir}\")\n",
    "    parent_dir_depth = parent_dir.rstrip(os.sep).count(os.sep)\n",
    "\n",
    "    # Walk the directory tree starting from the parent directory\n",
    "    for root, dirs, files in os.walk(parent_dir):\n",
    "        # Calculate current directory depth\n",
    "        current_depth = root.count(os.sep) - parent_dir_depth\n",
    "        \n",
    "        # Stop if the current depth exceeds max_depth\n",
    "        if max_depth is not None and current_depth > max_depth:\n",
    "            continue\n",
    "        \n",
    "        # Handle /kaggle/usr/lib/ directories as utility scripts\n",
    "        if root == '/kaggle/usr/lib':  # Detect utility script subdirectories\n",
    "            print(f\"Directory: {root}\")\n",
    "            for subdir in dirs[:max_files]:  # Limit to the first max_files utility scripts\n",
    "                print(f\"  Utility Scripts: {subdir}\")\n",
    "        else:\n",
    "            print(f\"Directory: {root}\")\n",
    "            \n",
    "            # Limit to the first max_files files in each directory\n",
    "            for filename in files[:max_files]:\n",
    "                print(f\"  Filename: {os.path.join(root, filename)}\")\n",
    "\n",
    "# Walk from the parent directory down, printing 5 files per directory, and stopping at a maximum depth\n",
    "walk_dirs('/kaggle', max_files=5, max_depth=2)\n"
   ]
  },
  {
   "cell_type": "markdown",
   "id": "51a04450",
   "metadata": {
    "papermill": {
     "duration": 0.002711,
     "end_time": "2024-09-28T14:22:40.563722",
     "exception": false,
     "start_time": "2024-09-28T14:22:40.561011",
     "status": "completed"
    },
    "tags": []
   },
   "source": [
    "### Instructions for first time use in a new notebook:\n",
    "0. Run the two code cells above to inventory the data files and utility scripts available to this notebook.\n",
    "1. Select 'File' on the Kaggle Notebook menu.  \n",
    "1. Select 'Add input'  \n",
    "1. Search for 'load_inputs'  \n",
    "1. Click the (+) button to add the input to the notebook  \n",
    "1. Repeat above steps for additional datasets, models, or utility scripts not listed by the Kaggle default code cell."
   ]
  },
  {
   "cell_type": "code",
   "execution_count": 3,
   "id": "30cf84b8",
   "metadata": {
    "execution": {
     "iopub.execute_input": "2024-09-28T14:22:40.571824Z",
     "iopub.status.busy": "2024-09-28T14:22:40.571416Z",
     "iopub.status.idle": "2024-09-28T14:22:40.703787Z",
     "shell.execute_reply": "2024-09-28T14:22:40.702425Z"
    },
    "papermill": {
     "duration": 0.139848,
     "end_time": "2024-09-28T14:22:40.706788",
     "exception": false,
     "start_time": "2024-09-28T14:22:40.566940",
     "status": "completed"
    },
    "tags": []
   },
   "outputs": [
    {
     "name": "stdout",
     "output_type": "stream",
     "text": [
      "Loaded 'sample_submission_df' as a DataFrame from sample_submission.csv\n",
      "Loaded 'examples_df' as a DataFrame from examples.csv\n",
      "Loaded 'test_df' as a DataFrame from test.csv\n",
      "Loaded 'taps_journey_stages_dict' as a dict from taps_journey_stages.json\n",
      "Loaded 'taps_survey_qna_dict' as a dict from taps_survey_qna.json\n"
     ]
    }
   ],
   "source": [
    "\n",
    "\n",
    "# Call the utility script to load the input files\n",
    "from load_inputs import load_input_data\n",
    "load_input_data(scope=globals())\n",
    "\n",
    "# Use the newly created varabiles below as you normally would."
   ]
  }
 ],
 "metadata": {
  "kaggle": {
   "accelerator": "none",
   "dataSources": [
    {
     "databundleVersionId": 9584301,
     "sourceId": 84804,
     "sourceType": "competition"
    },
    {
     "datasetId": 5782131,
     "sourceId": 9500983,
     "sourceType": "datasetVersion"
    },
    {
     "sourceId": 198648617,
     "sourceType": "kernelVersion"
    }
   ],
   "dockerImageVersionId": 30775,
   "isGpuEnabled": false,
   "isInternetEnabled": true,
   "language": "python",
   "sourceType": "notebook"
  },
  "kernelspec": {
   "display_name": "Python 3",
   "language": "python",
   "name": "python3"
  },
  "language_info": {
   "codemirror_mode": {
    "name": "ipython",
    "version": 3
   },
   "file_extension": ".py",
   "mimetype": "text/x-python",
   "name": "python",
   "nbconvert_exporter": "python",
   "pygments_lexer": "ipython3",
   "version": "3.10.14"
  },
  "papermill": {
   "default_parameters": {},
   "duration": 4.566935,
   "end_time": "2024-09-28T14:22:41.231981",
   "environment_variables": {},
   "exception": null,
   "input_path": "__notebook__.ipynb",
   "output_path": "__notebook__.ipynb",
   "parameters": {},
   "start_time": "2024-09-28T14:22:36.665046",
   "version": "2.6.0"
  }
 },
 "nbformat": 4,
 "nbformat_minor": 5
}
